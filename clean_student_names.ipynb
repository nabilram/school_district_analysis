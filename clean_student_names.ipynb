{
 "cells": [
  {
   "cell_type": "code",
   "execution_count": 11,
   "id": "7bb451d3-0981-41f6-9d35-4c4d4f325135",
   "metadata": {},
   "outputs": [],
   "source": [
    "import pandas as pd"
   ]
  },
  {
   "cell_type": "code",
   "execution_count": 25,
   "id": "722a4311-7354-4e9a-9445-bc7863881401",
   "metadata": {},
   "outputs": [],
   "source": [
    "student_path = \"resources\\students_complete.csv\"\n",
    "st_df = pd.read_csv(student_path)\n",
    "#st_df"
   ]
  },
  {
   "cell_type": "code",
   "execution_count": 26,
   "id": "e506f13d-018c-4e56-a370-14d34395b12a",
   "metadata": {},
   "outputs": [],
   "source": [
    "#grad student column and assign as values to a list using tolist() function\n",
    "st_names = st_df[\"student_name\"].tolist()\n",
    "#st_names"
   ]
  },
  {
   "cell_type": "code",
   "execution_count": 21,
   "id": "f9c15f88-93dc-4f0b-bd59-46924900f0d7",
   "metadata": {},
   "outputs": [
    {
     "name": "stdout",
     "output_type": "stream",
     "text": [
      "['Mrs.', 'Linda', 'Santiago'] 3\n"
     ]
    }
   ],
   "source": [
    "#split string using space as separator character\n",
    "name = \"Mrs. Linda Santiago\"\n",
    "print(name.split(), len(name.split()))"
   ]
  },
  {
   "cell_type": "code",
   "execution_count": 30,
   "id": "a88e7f73-34f6-484f-8e95-e8abe3060d87",
   "metadata": {},
   "outputs": [
    {
     "data": {
      "text/plain": [
       "1531"
      ]
     },
     "execution_count": 30,
     "metadata": {},
     "output_type": "execute_result"
    }
   ],
   "source": [
    "#for loop to got through student list with the split + len split counts\n",
    "names_to_fix = []\n",
    "\n",
    "for name in st_names:\n",
    "    if len(name.split()) > 2:\n",
    "        names_to_fix.append(name)\n",
    "        \n",
    "len(names_to_fix)"
   ]
  },
  {
   "cell_type": "code",
   "execution_count": 34,
   "id": "f6681d97-ed53-422b-8acf-277e472679bf",
   "metadata": {},
   "outputs": [],
   "source": [
    "# get all name prefixes and suffix\n",
    "prefix = []\n",
    "suffix = []\n",
    "\n",
    "for name in st_names:\n",
    "    if len(name.split()[0]) < 5:\n",
    "        prefix.append(name.split()[0])\n",
    "        \n",
    "for name in st_names:\n",
    "    if len(name.split()[-1]) < 4:\n",
    "        suffix.append(name.split()[-1])\n",
    "\n",
    "#suffix"
   ]
  },
  {
   "cell_type": "code",
   "execution_count": 38,
   "id": "10fb0227-cca9-4a6f-8888-0c1bc2f12da2",
   "metadata": {},
   "outputs": [],
   "source": [
    "# get unite values per list using set\n",
    "#set(prefix)\n",
    "#set(suffix)"
   ]
  },
  {
   "cell_type": "code",
   "execution_count": null,
   "id": "273cf0d3-2d60-4612-9ed2-a3cdd8db77fa",
   "metadata": {},
   "outputs": [],
   "source": []
  }
 ],
 "metadata": {
  "kernelspec": {
   "display_name": "PythonData",
   "language": "python",
   "name": "pythondata"
  },
  "language_info": {
   "codemirror_mode": {
    "name": "ipython",
    "version": 3
   },
   "file_extension": ".py",
   "mimetype": "text/x-python",
   "name": "python",
   "nbconvert_exporter": "python",
   "pygments_lexer": "ipython3",
   "version": "3.7.10"
  }
 },
 "nbformat": 4,
 "nbformat_minor": 5
}
