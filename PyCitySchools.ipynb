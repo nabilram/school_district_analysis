{
 "cells": [
  {
   "cell_type": "code",
   "execution_count": 217,
   "id": "e39b5bc9-05cb-480e-8f4a-888791880b48",
   "metadata": {},
   "outputs": [],
   "source": [
    "# import Panda dependency\n",
    "import pandas as pd"
   ]
  },
  {
   "cell_type": "code",
   "execution_count": 218,
   "id": "ae05291f-7892-4dc8-a85f-01ed0f45b825",
   "metadata": {},
   "outputs": [],
   "source": [
    "# filepath as strings, read as DFs\n",
    "sch_file = \"resources\\schools_complete.csv\"\n",
    "stu_file = \"resources\\students_complete.csv\"\n",
    "sch_df = pd.read_csv(sch_file)\n",
    "stu_df = pd.read_csv(stu_file)"
   ]
  },
  {
   "cell_type": "code",
   "execution_count": 222,
   "id": "b167594e-9b0c-4023-9c46-79b974d060ee",
   "metadata": {},
   "outputs": [
    {
     "name": "stderr",
     "output_type": "stream",
     "text": [
      "C:\\Users\\nabil\\anaconda3\\envs\\PythonData\\lib\\site-packages\\ipykernel_launcher.py:5: FutureWarning: The default value of regex will change from True to False in a future version.\n",
      "  \"\"\"\n"
     ]
    }
   ],
   "source": [
    "# clean student names using list, looping through, and using replace if string is found in column\n",
    "presuffixes = [\"Dr. \", \"Mr. \",\"Ms. \", \"Mrs. \", \"Miss \", \" MD\", \" DDS\", \" DVM\", \" PhD\"]\n",
    "\n",
    "for psfix in presuffixes:\n",
    "    stu_df[\"student_name\"] = stu_df[\"student_name\"].str.replace(psfix, \"\")"
   ]
  },
  {
   "cell_type": "code",
   "execution_count": 223,
   "id": "69b8cbf7-8364-49aa-ad32-8e76727485aa",
   "metadata": {},
   "outputs": [],
   "source": [
    "# merge both dfs for complete data set get basic metrics\n",
    "all_data = pd.merge(stu_df, sch_df, on=[\"school_name\", \"school_name\"])\n",
    "\n",
    "student_count = all_data[\"Student ID\"].count()\n",
    "school_count = len(all_data[\"school_name\"].unique())\n",
    "total_budget = sch_df[\"budget\"].sum()\n",
    "mean_read = all_data[\"reading_score\"].mean()\n",
    "mean_math = all_data[\"math_score\"].mean()\n",
    "\n",
    "#pass or fail into new DFs, do counts, and percentages\n",
    "pass_math = all_data[all_data[\"math_score\"] > 69]\n",
    "pass_read = all_data[all_data[\"reading_score\"] > 69]\n",
    "pass_both = all_data[(all_data[\"math_score\"] > 69) & (all_data[\"reading_score\"] > 69)]\n",
    "\n",
    "math_pass_count = pass_math[\"student_name\"].count()\n",
    "read_pass_count = pass_read[\"student_name\"].count()\n",
    "pass_both_count = pass_both[\"student_name\"].count()\n",
    "\n",
    "math_perc = math_pass_count / float(student_count) * 100\n",
    "read_perc = read_pass_count / float(student_count) * 100\n",
    "both_perc = pass_both_count / float(student_count) * 100"
   ]
  },
  {
   "cell_type": "code",
   "execution_count": 225,
   "id": "9ed894b4-03a8-42bd-8d03-844eb66afc7b",
   "metadata": {},
   "outputs": [
    {
     "data": {
      "text/html": [
       "<div>\n",
       "<style scoped>\n",
       "    .dataframe tbody tr th:only-of-type {\n",
       "        vertical-align: middle;\n",
       "    }\n",
       "\n",
       "    .dataframe tbody tr th {\n",
       "        vertical-align: top;\n",
       "    }\n",
       "\n",
       "    .dataframe thead th {\n",
       "        text-align: right;\n",
       "    }\n",
       "</style>\n",
       "<table border=\"1\" class=\"dataframe\">\n",
       "  <thead>\n",
       "    <tr style=\"text-align: right;\">\n",
       "      <th></th>\n",
       "      <th>Total Schools</th>\n",
       "      <th>Total Students</th>\n",
       "      <th>Total Budget</th>\n",
       "      <th>Ave Math Score</th>\n",
       "      <th>Ave Read Score</th>\n",
       "      <th>% Pass Math</th>\n",
       "      <th>% Pass Read</th>\n",
       "      <th>% Overall Pass</th>\n",
       "    </tr>\n",
       "  </thead>\n",
       "  <tbody>\n",
       "    <tr>\n",
       "      <th>0</th>\n",
       "      <td>15</td>\n",
       "      <td>39,170</td>\n",
       "      <td>$24,649,428.00</td>\n",
       "      <td>79.0</td>\n",
       "      <td>81.9</td>\n",
       "      <td>75</td>\n",
       "      <td>86</td>\n",
       "      <td>65</td>\n",
       "    </tr>\n",
       "  </tbody>\n",
       "</table>\n",
       "</div>"
      ],
      "text/plain": [
       "   Total Schools Total Students    Total Budget Ave Math Score Ave Read Score  \\\n",
       "0             15         39,170  $24,649,428.00           79.0           81.9   \n",
       "\n",
       "  % Pass Math % Pass Read % Overall Pass  \n",
       "0          75          86             65  "
      ]
     },
     "execution_count": 225,
     "metadata": {},
     "output_type": "execute_result"
    }
   ],
   "source": [
    "#create summary df\n",
    "dist_sum_df = pd.DataFrame(\n",
    "    [{\"Total Schools\" : school_count,\n",
    "    \"Total Students\" : student_count,\n",
    "    \"Total Budget\" : total_budget,\n",
    "    \"Ave Math Score\" : mean_math,\n",
    "    \"Ave Read Score\" : mean_read,\n",
    "    \"% Pass Math\" : math_perc,\n",
    "    \"% Pass Read\" : read_perc,\n",
    "    \"% Overall Pass\" : both_perc}])\n",
    "\n",
    "#format each column appropriately\n",
    "dist_sum_df[\"Total Students\"] = dist_sum_df[\"Total Students\"].map(\"{:,}\".format)\n",
    "dist_sum_df[\"Ave Math Score\"] = dist_sum_df[\"Ave Math Score\"].map(\"{:.1f}\".format)\n",
    "dist_sum_df[\"Ave Read Score\"] = dist_sum_df[\"Ave Read Score\"].map(\"{:.1f}\".format)\n",
    "dist_sum_df[\"% Pass Math\"] = dist_sum_df[\"% Pass Math\"].map(\"{:.0f}\".format)\n",
    "dist_sum_df[\"% Pass Read\"] = dist_sum_df[\"% Pass Read\"].map(\"{:.0f}\".format)\n",
    "dist_sum_df[\"% Overall Pass\"] = dist_sum_df[\"% Overall Pass\"].map(\"{:.0f}\".format)\n",
    "dist_sum_df[\"Total Budget\"] = dist_sum_df[\"Total Budget\"].map(\"${:,.2f}\".format)\n",
    "\n",
    "#reorder columns appropriately\n",
    "col_order = [\"Total Schools\",\"Total Students\", \"Total Budget\", \"Ave Math Score\", \n",
    "             \"Ave Read Score\", \"% Pass Math\", \"% Pass Read\", \"% Overall Pass\"]\n",
    "dist_sum_df = dist_sum_df[col_order]\n",
    "\n",
    "dist_sum_df"
   ]
  },
  {
   "cell_type": "code",
   "execution_count": null,
   "id": "2e15296e-8160-41ec-9990-2a477ebf3985",
   "metadata": {},
   "outputs": [],
   "source": []
  }
 ],
 "metadata": {
  "kernelspec": {
   "display_name": "PythonData",
   "language": "python",
   "name": "pythondata"
  },
  "language_info": {
   "codemirror_mode": {
    "name": "ipython",
    "version": 3
   },
   "file_extension": ".py",
   "mimetype": "text/x-python",
   "name": "python",
   "nbconvert_exporter": "python",
   "pygments_lexer": "ipython3",
   "version": "3.7.10"
  }
 },
 "nbformat": 4,
 "nbformat_minor": 5
}
