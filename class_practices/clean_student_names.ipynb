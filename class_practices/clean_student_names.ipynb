{
 "cells": [
  {
   "cell_type": "code",
   "execution_count": 70,
   "id": "7bb451d3-0981-41f6-9d35-4c4d4f325135",
   "metadata": {},
   "outputs": [],
   "source": [
    "import pandas as pd"
   ]
  },
  {
   "cell_type": "code",
   "execution_count": 71,
   "id": "722a4311-7354-4e9a-9445-bc7863881401",
   "metadata": {},
   "outputs": [],
   "source": [
    "student_path = \"resources\\students_complete.csv\"\n",
    "st_df = pd.read_csv(student_path)\n",
    "#st_df"
   ]
  },
  {
   "cell_type": "code",
   "execution_count": 72,
   "id": "e506f13d-018c-4e56-a370-14d34395b12a",
   "metadata": {},
   "outputs": [],
   "source": [
    "#grad student column and assign as values to a list using tolist() function\n",
    "st_names = st_df[\"student_name\"].tolist()\n",
    "#st_names"
   ]
  },
  {
   "cell_type": "code",
   "execution_count": 73,
   "id": "f9c15f88-93dc-4f0b-bd59-46924900f0d7",
   "metadata": {},
   "outputs": [
    {
     "name": "stdout",
     "output_type": "stream",
     "text": [
      "['Mrs.', 'Linda', 'Santiago'] 3\n"
     ]
    }
   ],
   "source": [
    "#split string using space as separator character\n",
    "name = \"Mrs. Linda Santiago\"\n",
    "print(name.split(), len(name.split()))"
   ]
  },
  {
   "cell_type": "code",
   "execution_count": 74,
   "id": "a88e7f73-34f6-484f-8e95-e8abe3060d87",
   "metadata": {},
   "outputs": [
    {
     "data": {
      "text/plain": [
       "1531"
      ]
     },
     "execution_count": 74,
     "metadata": {},
     "output_type": "execute_result"
    }
   ],
   "source": [
    "#for loop to got through student list with the split + len split counts\n",
    "names_to_fix = []\n",
    "\n",
    "for name in st_names:\n",
    "    if len(name.split()) > 2:\n",
    "        names_to_fix.append(name)\n",
    "        \n",
    "len(names_to_fix)"
   ]
  },
  {
   "cell_type": "code",
   "execution_count": 75,
   "id": "f6681d97-ed53-422b-8acf-277e472679bf",
   "metadata": {},
   "outputs": [],
   "source": [
    "# get all name prefixes and suffix\n",
    "prefix = []\n",
    "suffix = []\n",
    "\n",
    "for name in st_names:\n",
    "    if len(name.split()[0]) < 5:\n",
    "        prefix.append(name.split()[0])\n",
    "        \n",
    "for name in st_names:\n",
    "    if len(name.split()[-1]) < 4:\n",
    "        suffix.append(name.split()[-1])\n",
    "\n",
    "#suffix"
   ]
  },
  {
   "cell_type": "code",
   "execution_count": 76,
   "id": "10fb0227-cca9-4a6f-8888-0c1bc2f12da2",
   "metadata": {},
   "outputs": [],
   "source": [
    "# get unique alues per list using set() or unique()\n",
    "#set(prefix)\n",
    "#set(suffix)"
   ]
  },
  {
   "cell_type": "code",
   "execution_count": 89,
   "id": "122fc8b8-c3b9-45b9-ac5b-002a4341776e",
   "metadata": {},
   "outputs": [],
   "source": [
    "# remove or replace string values using strip() or replace()\n",
    "# strip() removes any combination of characters in a string\n",
    "# replace() target string with new string assigned -- best to use this\n",
    "\n",
    "#for name in st_names:\n",
    " #   print(name.replace(\"Dr. \", \"\"))\n",
    "#  name.replace(\"Dr.  \", \"\")\n"
   ]
  },
  {
   "cell_type": "code",
   "execution_count": 91,
   "id": "29b1b6b3-d392-4756-9585-987071dff9ff",
   "metadata": {},
   "outputs": [
    {
     "name": "stderr",
     "output_type": "stream",
     "text": [
      "C:\\Users\\nabil\\anaconda3\\envs\\PythonData\\lib\\site-packages\\ipykernel_launcher.py:4: FutureWarning: The default value of regex will change from True to False in a future version.\n",
      "  after removing the cwd from sys.path.\n"
     ]
    },
    {
     "data": {
      "text/plain": [
       "151"
      ]
     },
     "execution_count": 91,
     "metadata": {},
     "output_type": "execute_result"
    }
   ],
   "source": [
    "presufixes = [\"Dr. \", \"Mr. \",\"Ms. \", \"Mrs. \", \"Miss \", \" MD\", \" DDS\", \" DVM\", \" PhD\"]\n",
    "\n",
    "for psfix in presufixes:\n",
    "    st_df[\"student_name\"] = st_df[\"student_name\"].str.replace(psfix, \"\")\n",
    "\n",
    "fixed_names = st_df[\"student_name\"].tolist()\n",
    "#fixed_names\n",
    "\n",
    "students_fixed = []\n",
    "\n",
    "for name in fixed_names:\n",
    "    if len(name.split()) > 2:\n",
    "        students_fixed.append(name)\n",
    "        \n",
    "len(students_fixed)"
   ]
  },
  {
   "cell_type": "code",
   "execution_count": null,
   "id": "fe143550-341a-41c6-b2fb-9b721814ae8a",
   "metadata": {},
   "outputs": [],
   "source": []
  }
 ],
 "metadata": {
  "kernelspec": {
   "display_name": "PythonData",
   "language": "python",
   "name": "pythondata"
  },
  "language_info": {
   "codemirror_mode": {
    "name": "ipython",
    "version": 3
   },
   "file_extension": ".py",
   "mimetype": "text/x-python",
   "name": "python",
   "nbconvert_exporter": "python",
   "pygments_lexer": "ipython3",
   "version": "3.7.10"
  }
 },
 "nbformat": 4,
 "nbformat_minor": 5
}
